{
 "cells": [
  {
   "cell_type": "code",
   "execution_count": 1,
   "id": "3ec69db7-40b4-4bd7-bcaf-a0377103874d",
   "metadata": {},
   "outputs": [],
   "source": [
    "import pandas as pd\n",
    "import numpy as np"
   ]
  },
  {
   "cell_type": "code",
   "execution_count": 2,
   "id": "69014fa2-e09f-43d2-b4ef-61646f1e0c2d",
   "metadata": {},
   "outputs": [],
   "source": [
    "embeddings = np.load('embeddings.npy')\n",
    "df_metadata = pd.read_csv('cleaned_metadata.csv')"
   ]
  },
  {
   "cell_type": "code",
   "execution_count": 3,
   "id": "af2bcccd-5f75-45bb-8504-11f1df0ce3e7",
   "metadata": {},
   "outputs": [
    {
     "name": "stdout",
     "output_type": "stream",
     "text": [
      "(32262, 384)\n"
     ]
    }
   ],
   "source": [
    "print(embeddings.shape)"
   ]
  },
  {
   "cell_type": "code",
   "execution_count": 4,
   "id": "07f38c46-85c8-4cf7-8431-d3b31dff797c",
   "metadata": {},
   "outputs": [],
   "source": [
    "sentences = []\n",
    "for row in df_metadata.itertuples(index=True):\n",
    "    if row.overview is not None:\n",
    "        sentences.append(str(row.overview))"
   ]
  },
  {
   "cell_type": "code",
   "execution_count": 5,
   "id": "06075fbf-8428-4d74-ba29-c8b9d203eff4",
   "metadata": {},
   "outputs": [],
   "source": [
    "import faiss\n",
    "\n",
    "faiss.normalize_L2(embeddings)\n",
    "index = faiss.IndexFlatIP(384)\n",
    "index.add(embeddings)"
   ]
  },
  {
   "cell_type": "code",
   "execution_count": 6,
   "id": "f8e273cf-d593-47b6-acc8-afc9f0bcda82",
   "metadata": {},
   "outputs": [],
   "source": [
    "def similar_movies(title, df_metadata, index):\n",
    "    df_index = df_metadata[df_metadata['original_title'] == title].index\n",
    "    if len(df_index) == 0: \n",
    "        return []\n",
    "    real_index = 0\n",
    "    if len(df_index) > 1: \n",
    "        popularity = 0\n",
    "        \n",
    "        for i in df_index:\n",
    "            row = df_metadata.iloc[i]\n",
    "            if row[\"popularity\"] > popularity:\n",
    "                popularity = row[\"popularity\"]\n",
    "                real_index = i\n",
    "        \n",
    "    print(len(df_index))\n",
    "    print(real_index)\n",
    "    query = embeddings[real_index].reshape(1,-1).copy()\n",
    "    \n",
    "    faiss.normalize_L2(query)\n",
    "    D, I = index.search(query, 10)\n",
    "    return I[0]\n"
   ]
  },
  {
   "cell_type": "code",
   "execution_count": 7,
   "id": "282a808e-c7bc-4e99-80da-bbfb54eab0c3",
   "metadata": {},
   "outputs": [
    {
     "data": {
      "text/plain": [
       "[]"
      ]
     },
     "execution_count": 7,
     "metadata": {},
     "output_type": "execute_result"
    }
   ],
   "source": [
    "similar_movies(\"The weirdo Knight\", df_metadata, index)"
   ]
  },
  {
   "cell_type": "code",
   "execution_count": 8,
   "id": "33c4379b-0e2e-4d71-9d99-ed5f0b08c85e",
   "metadata": {},
   "outputs": [],
   "source": [
    "df_ratings = pd.read_csv('cleaned_ratings.csv')"
   ]
  },
  {
   "cell_type": "code",
   "execution_count": 9,
   "id": "65511b14-9455-44d8-8570-1887469b5204",
   "metadata": {},
   "outputs": [
    {
     "data": {
      "text/html": [
       "<div>\n",
       "<style scoped>\n",
       "    .dataframe tbody tr th:only-of-type {\n",
       "        vertical-align: middle;\n",
       "    }\n",
       "\n",
       "    .dataframe tbody tr th {\n",
       "        vertical-align: top;\n",
       "    }\n",
       "\n",
       "    .dataframe thead th {\n",
       "        text-align: right;\n",
       "    }\n",
       "</style>\n",
       "<table border=\"1\" class=\"dataframe\">\n",
       "  <thead>\n",
       "    <tr style=\"text-align: right;\">\n",
       "      <th></th>\n",
       "      <th>userId</th>\n",
       "      <th>movieId</th>\n",
       "      <th>rating</th>\n",
       "      <th>timestamp</th>\n",
       "    </tr>\n",
       "  </thead>\n",
       "  <tbody>\n",
       "    <tr>\n",
       "      <th>0</th>\n",
       "      <td>1</td>\n",
       "      <td>110</td>\n",
       "      <td>1.0</td>\n",
       "      <td>1425941529</td>\n",
       "    </tr>\n",
       "    <tr>\n",
       "      <th>1</th>\n",
       "      <td>1</td>\n",
       "      <td>147</td>\n",
       "      <td>4.5</td>\n",
       "      <td>1425942435</td>\n",
       "    </tr>\n",
       "    <tr>\n",
       "      <th>2</th>\n",
       "      <td>1</td>\n",
       "      <td>858</td>\n",
       "      <td>5.0</td>\n",
       "      <td>1425941523</td>\n",
       "    </tr>\n",
       "    <tr>\n",
       "      <th>3</th>\n",
       "      <td>1</td>\n",
       "      <td>1221</td>\n",
       "      <td>5.0</td>\n",
       "      <td>1425941546</td>\n",
       "    </tr>\n",
       "    <tr>\n",
       "      <th>4</th>\n",
       "      <td>1</td>\n",
       "      <td>1246</td>\n",
       "      <td>5.0</td>\n",
       "      <td>1425941556</td>\n",
       "    </tr>\n",
       "    <tr>\n",
       "      <th>...</th>\n",
       "      <td>...</td>\n",
       "      <td>...</td>\n",
       "      <td>...</td>\n",
       "      <td>...</td>\n",
       "    </tr>\n",
       "    <tr>\n",
       "      <th>26024284</th>\n",
       "      <td>270896</td>\n",
       "      <td>58559</td>\n",
       "      <td>5.0</td>\n",
       "      <td>1257031564</td>\n",
       "    </tr>\n",
       "    <tr>\n",
       "      <th>26024285</th>\n",
       "      <td>270896</td>\n",
       "      <td>60069</td>\n",
       "      <td>5.0</td>\n",
       "      <td>1257032032</td>\n",
       "    </tr>\n",
       "    <tr>\n",
       "      <th>26024286</th>\n",
       "      <td>270896</td>\n",
       "      <td>63082</td>\n",
       "      <td>4.5</td>\n",
       "      <td>1257031764</td>\n",
       "    </tr>\n",
       "    <tr>\n",
       "      <th>26024287</th>\n",
       "      <td>270896</td>\n",
       "      <td>64957</td>\n",
       "      <td>4.5</td>\n",
       "      <td>1257033990</td>\n",
       "    </tr>\n",
       "    <tr>\n",
       "      <th>26024288</th>\n",
       "      <td>270896</td>\n",
       "      <td>71878</td>\n",
       "      <td>2.0</td>\n",
       "      <td>1257031858</td>\n",
       "    </tr>\n",
       "  </tbody>\n",
       "</table>\n",
       "<p>26024289 rows × 4 columns</p>\n",
       "</div>"
      ],
      "text/plain": [
       "          userId  movieId  rating   timestamp\n",
       "0              1      110     1.0  1425941529\n",
       "1              1      147     4.5  1425942435\n",
       "2              1      858     5.0  1425941523\n",
       "3              1     1221     5.0  1425941546\n",
       "4              1     1246     5.0  1425941556\n",
       "...          ...      ...     ...         ...\n",
       "26024284  270896    58559     5.0  1257031564\n",
       "26024285  270896    60069     5.0  1257032032\n",
       "26024286  270896    63082     4.5  1257031764\n",
       "26024287  270896    64957     4.5  1257033990\n",
       "26024288  270896    71878     2.0  1257031858\n",
       "\n",
       "[26024289 rows x 4 columns]"
      ]
     },
     "execution_count": 9,
     "metadata": {},
     "output_type": "execute_result"
    }
   ],
   "source": [
    "df_ratings"
   ]
  },
  {
   "cell_type": "code",
   "execution_count": 10,
   "id": "db1e09df-c8b7-46f5-b45e-ff2e6a5c22b5",
   "metadata": {},
   "outputs": [],
   "source": [
    "user_counts = df_ratings['userId'].value_counts()\n"
   ]
  },
  {
   "cell_type": "code",
   "execution_count": 11,
   "id": "98fd8b32-bc97-48d9-b0a0-91633afe31bf",
   "metadata": {},
   "outputs": [
    {
     "data": {
      "text/html": [
       "<div>\n",
       "<style scoped>\n",
       "    .dataframe tbody tr th:only-of-type {\n",
       "        vertical-align: middle;\n",
       "    }\n",
       "\n",
       "    .dataframe tbody tr th {\n",
       "        vertical-align: top;\n",
       "    }\n",
       "\n",
       "    .dataframe thead th {\n",
       "        text-align: right;\n",
       "    }\n",
       "</style>\n",
       "<table border=\"1\" class=\"dataframe\">\n",
       "  <thead>\n",
       "    <tr style=\"text-align: right;\">\n",
       "      <th></th>\n",
       "      <th>userId</th>\n",
       "      <th>movieId</th>\n",
       "      <th>rating</th>\n",
       "      <th>timestamp</th>\n",
       "    </tr>\n",
       "  </thead>\n",
       "  <tbody>\n",
       "    <tr>\n",
       "      <th>0</th>\n",
       "      <td>1</td>\n",
       "      <td>110</td>\n",
       "      <td>1.0</td>\n",
       "      <td>1425941529</td>\n",
       "    </tr>\n",
       "    <tr>\n",
       "      <th>1</th>\n",
       "      <td>1</td>\n",
       "      <td>147</td>\n",
       "      <td>4.5</td>\n",
       "      <td>1425942435</td>\n",
       "    </tr>\n",
       "    <tr>\n",
       "      <th>2</th>\n",
       "      <td>1</td>\n",
       "      <td>858</td>\n",
       "      <td>5.0</td>\n",
       "      <td>1425941523</td>\n",
       "    </tr>\n",
       "    <tr>\n",
       "      <th>3</th>\n",
       "      <td>1</td>\n",
       "      <td>1221</td>\n",
       "      <td>5.0</td>\n",
       "      <td>1425941546</td>\n",
       "    </tr>\n",
       "    <tr>\n",
       "      <th>4</th>\n",
       "      <td>1</td>\n",
       "      <td>1246</td>\n",
       "      <td>5.0</td>\n",
       "      <td>1425941556</td>\n",
       "    </tr>\n",
       "    <tr>\n",
       "      <th>...</th>\n",
       "      <td>...</td>\n",
       "      <td>...</td>\n",
       "      <td>...</td>\n",
       "      <td>...</td>\n",
       "    </tr>\n",
       "    <tr>\n",
       "      <th>26024284</th>\n",
       "      <td>270896</td>\n",
       "      <td>58559</td>\n",
       "      <td>5.0</td>\n",
       "      <td>1257031564</td>\n",
       "    </tr>\n",
       "    <tr>\n",
       "      <th>26024285</th>\n",
       "      <td>270896</td>\n",
       "      <td>60069</td>\n",
       "      <td>5.0</td>\n",
       "      <td>1257032032</td>\n",
       "    </tr>\n",
       "    <tr>\n",
       "      <th>26024286</th>\n",
       "      <td>270896</td>\n",
       "      <td>63082</td>\n",
       "      <td>4.5</td>\n",
       "      <td>1257031764</td>\n",
       "    </tr>\n",
       "    <tr>\n",
       "      <th>26024287</th>\n",
       "      <td>270896</td>\n",
       "      <td>64957</td>\n",
       "      <td>4.5</td>\n",
       "      <td>1257033990</td>\n",
       "    </tr>\n",
       "    <tr>\n",
       "      <th>26024288</th>\n",
       "      <td>270896</td>\n",
       "      <td>71878</td>\n",
       "      <td>2.0</td>\n",
       "      <td>1257031858</td>\n",
       "    </tr>\n",
       "  </tbody>\n",
       "</table>\n",
       "<p>25990850 rows × 4 columns</p>\n",
       "</div>"
      ],
      "text/plain": [
       "          userId  movieId  rating   timestamp\n",
       "0              1      110     1.0  1425941529\n",
       "1              1      147     4.5  1425942435\n",
       "2              1      858     5.0  1425941523\n",
       "3              1     1221     5.0  1425941546\n",
       "4              1     1246     5.0  1425941556\n",
       "...          ...      ...     ...         ...\n",
       "26024284  270896    58559     5.0  1257031564\n",
       "26024285  270896    60069     5.0  1257032032\n",
       "26024286  270896    63082     4.5  1257031764\n",
       "26024287  270896    64957     4.5  1257033990\n",
       "26024288  270896    71878     2.0  1257031858\n",
       "\n",
       "[25990850 rows x 4 columns]"
      ]
     },
     "execution_count": 11,
     "metadata": {},
     "output_type": "execute_result"
    }
   ],
   "source": [
    "df_ratings = df_ratings[df_ratings['userId'].isin(user_counts[user_counts >= 5].index)]\n",
    "df_ratings\n"
   ]
  },
  {
   "cell_type": "code",
   "execution_count": 12,
   "id": "6db5361e-3fab-4349-a6ec-89cc29991c39",
   "metadata": {},
   "outputs": [],
   "source": [
    "def mapping_movies():\n",
    "    movie2idx = {}\n",
    "    i = 0\n",
    "    for movie_id in df_ratings[\"movieId\"].unique():  # go through unique movie IDs\n",
    "        movie2idx[movie_id] = i\n",
    "        i+=1\n",
    "\n",
    "    return movie2idx\n",
    "\n",
    "def mapping_users():\n",
    "    user2idx = {}\n",
    "    i = 0\n",
    "    for user_id in df_ratings[\"userId\"].unique():  # go through unique movie IDs\n",
    "        user2idx[user_id] = i\n",
    "        i+=1\n",
    "\n",
    "    return user2idx\n",
    "\n",
    "movie2idx = mapping_movies()\n",
    "user2idx = mapping_users()\n",
    "\n"
   ]
  },
  {
   "cell_type": "code",
   "execution_count": 13,
   "id": "872cf73d-5d66-4e92-97db-8cae7c4e00d7",
   "metadata": {},
   "outputs": [
    {
     "name": "stdout",
     "output_type": "stream",
     "text": [
      "256107 256107\n",
      "45109 45109\n"
     ]
    }
   ],
   "source": [
    "data = []\n",
    "\n",
    "length = 8000\n",
    "for i in range(length):\n",
    "    row = df_ratings.iloc[i]\n",
    "    user_data = user2idx[int(row[\"userId\"])]\n",
    "    movie_data = movie2idx[int(row[\"movieId\"])]\n",
    "    rating_data = float(row[\"rating\"])\n",
    "\n",
    "    data.append([user_data, movie_data, rating_data])\n",
    "\n",
    "print(df_ratings[\"userId\"].nunique(), len(user2idx))\n",
    "print(df_ratings[\"movieId\"].nunique(), len(movie2idx))\n",
    "\n"
   ]
  },
  {
   "cell_type": "code",
   "execution_count": 1,
   "id": "370c1c0b-4e54-481a-93e2-48d174d6c28f",
   "metadata": {},
   "outputs": [
    {
     "ename": "NameError",
     "evalue": "name 'df_ratings' is not defined",
     "output_type": "error",
     "traceback": [
      "\u001b[0;31m---------------------------------------------------------------------------\u001b[0m",
      "\u001b[0;31mNameError\u001b[0m                                 Traceback (most recent call last)",
      "Cell \u001b[0;32mIn[1], line 1\u001b[0m\n\u001b[0;32m----> 1\u001b[0m \u001b[38;5;28mprint\u001b[39m(df_ratings[\u001b[38;5;124m\"\u001b[39m\u001b[38;5;124muserId\u001b[39m\u001b[38;5;124m\"\u001b[39m]\u001b[38;5;241m.\u001b[39mnunique())\n\u001b[1;32m      2\u001b[0m \u001b[38;5;28mprint\u001b[39m(df_ratings[\u001b[38;5;124m\"\u001b[39m\u001b[38;5;124mmovieId\u001b[39m\u001b[38;5;124m\"\u001b[39m]\u001b[38;5;241m.\u001b[39mnunique())\n\u001b[1;32m      4\u001b[0m \u001b[38;5;28mprint\u001b[39m(\u001b[38;5;28mlen\u001b[39m(df_ratings))\n",
      "\u001b[0;31mNameError\u001b[0m: name 'df_ratings' is not defined"
     ]
    }
   ],
   "source": [
    "print(df_ratings[\"userId\"].nunique())\n",
    "print(df_ratings[\"movieId\"].nunique())\n",
    "\n",
    "print(len(df_ratings))"
   ]
  },
  {
   "cell_type": "code",
   "execution_count": null,
   "id": "9ba7aad4-a6b2-467b-9659-0b9155b6ccb6",
   "metadata": {},
   "outputs": [],
   "source": [
    "from torch.utils.data import Dataset, DataLoader\n",
    "\n",
    "class MoviesDataset(Dataset):\n",
    "    def __init__(self, data):\n",
    "        self.data = data\n",
    "    def __len__(self):\n",
    "        return len(self.data)\n",
    "    def __getitem__(self, idx):\n",
    "\n",
    "        user_data = self.data[idx][0]\n",
    "        movie_data = self.data[idx][1]\n",
    "        rating_data = self.data[idx][2]\n",
    "\n",
    "        user_id_tensor = torch.tensor(user_data, dtype=torch.long)\n",
    "        movie_id_tensor = torch.tensor(movie_data, dtype=torch.long)\n",
    "        rating_tensor = torch.tensor(rating_data, dtype=torch.float32)\n",
    "\n",
    "        return(user_id_tensor, movie_id_tensor, rating_tensor)\n",
    "\n",
    "\n",
    "        "
   ]
  },
  {
   "cell_type": "code",
   "execution_count": null,
   "id": "f3068685-689b-4e2c-bb7e-6e5865570a35",
   "metadata": {},
   "outputs": [],
   "source": [
    "dataloader = DataLoader(data, batch_size=150, shuffle=True)"
   ]
  },
  {
   "cell_type": "code",
   "execution_count": null,
   "id": "1cb27c48-ce35-4887-8d9f-a32ddd532412",
   "metadata": {},
   "outputs": [],
   "source": [
    "import torch\n",
    "import torch.nn as nn\n",
    "import torch.optim as optim\n",
    "\n",
    "class MovieRecommender(nn.Module):\n",
    "    def __init__(self, num_users, num_movies, embedding_dim=128):\n",
    "            super(MyRecommender, self).__init__()\n",
    "            self.user_embedding = nn.Embedding(num_users, embedding_dim)\n",
    "            self.movie_embedding = nn.Embedding(num_movies, embedding_dim)\n",
    "            self.mlp = nn.Sequential(\n",
    "                nn.Linear(256, 128),  # shrink 256-dim input → 128\n",
    "                nn.ReLU(),            # add nonlinearity\n",
    "                nn.Linear(128, 64),   # shrink again\n",
    "                nn.ReLU(),            \n",
    "                nn.Linear(64, 1)      # final output: one number (predicted rating)\n",
    "            )\n",
    "\n",
    "    def forward(self, user_ids, movie_ids):\n",
    "        user_vecs = self.user_embedding(user_ids)\n",
    "        movie_vecs = self.movie_embedding(movie_ids)\n",
    "\n",
    "        combined_vec = torch.cat((user_vecs, movie_vecs), dim=1)\n",
    "\n",
    "        return self.mlp(combined_vec).squeeze(-1)\n",
    "\n",
    "\n",
    "\n",
    "        \n"
   ]
  },
  {
   "cell_type": "code",
   "execution_count": null,
   "id": "627b6705-f4c1-4f0e-b5a6-6d9adb10fb71",
   "metadata": {},
   "outputs": [],
   "source": [
    "#training loop\n",
    "\n",
    "num_epochs = 5\n",
    "train_losses, val_losses = [], []\n",
    "\n",
    "device = torch.device(\"cuda:0\" if torch.cuda.is_available() else \"cpu\")\n",
    "model = MovieRecommender(8000,8000)\n",
    "model.to(device)\n",
    "\n",
    "criterion = nn.MSELoss()\n",
    "optimizer = optim.Adam(model.parameters(), lr=0.001)\n",
    "\n",
    "for epoch in range(num_epochs):\n",
    "    running_loss = 0.0\n",
    "\n",
    "    for batch in dataloader:\n",
    "        user_ids, movie_ids, ratings = batch\n",
    "        user_ids = user_ids.to(device)\n",
    "        movie_ids = movie_ids.to(device)\n",
    "        ratings = ratings.to(device)\n",
    "\n",
    "        predictions = model(user_ids, movie_ids)\n",
    "        loss = criterion(predictions, ratings)\n",
    "\n",
    "        optimizer.zero_grad()\n",
    "        loss.backward()\n",
    "        optimizer.step()\n",
    "        running_loss += loss.item()  # accumulate\n",
    "    \n",
    "    avg_loss = running_loss / len(dataloader)  # mean per batch\n",
    "    train_losses.append(avg_loss)\n",
    "    print(f\"Epoch [{epoch+1}/{num_epochs}], Loss: {avg_loss:.4f}\")\n",
    "\n",
    "\n",
    "\n"
   ]
  }
 ],
 "metadata": {
  "kernelspec": {
   "display_name": "Python 3 (ipykernel)",
   "language": "python",
   "name": "python3"
  },
  "language_info": {
   "codemirror_mode": {
    "name": "ipython",
    "version": 3
   },
   "file_extension": ".py",
   "mimetype": "text/x-python",
   "name": "python",
   "nbconvert_exporter": "python",
   "pygments_lexer": "ipython3",
   "version": "3.11.7"
  }
 },
 "nbformat": 4,
 "nbformat_minor": 5
}
